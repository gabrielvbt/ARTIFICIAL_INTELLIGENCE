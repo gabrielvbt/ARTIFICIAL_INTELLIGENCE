{
 "cells": [
  {
   "cell_type": "code",
   "execution_count": null,
   "id": "e61b052c",
   "metadata": {},
   "outputs": [],
   "source": [
    "from sqlalchemy import create_engine, MetaData\n",
    "import pandas as pd\n",
    "\n",
    "user = ''\n",
    "passw = ''\n",
    "host = ''\n",
    "port = ''\n",
    "\n",
    "database = 'schemas'\n",
    "tabela = 'ecommerce'\n",
    "mydb = create_engine('mysql+pymysql://' + user + ':' + passw + '@' + host + ':' + str(port) + '/' + database, echo=False)\n",
    "# ECOMMERCE = pd.read_sql('SELECT * FROM `' + tabela + '`', con=mydb)\n",
    "\n",
    "METADATA_OBJ = MetaData()\n",
    "METADATA_OBJ.reflect(mydb)\n",
    "METADATA_OBJ.tables.keys()\n",
    "\n",
    "mydb.dispose()"
   ]
  },
  {
   "cell_type": "code",
   "execution_count": null,
   "id": "594b8f22",
   "metadata": {},
   "outputs": [],
   "source": [
    "from llama_index.core import Settings\n",
    "from llama_index.llms.groq import Groq\n",
    "from llama_index.embeddings.huggingface import HuggingFaceEmbedding\n",
    "\n",
    "modelo = 'llama-3.1-70b-versatile'\n",
    "modelo_hf_emb = 'BAAI/bge-m3'\n",
    "\n",
    "groq_key = ''\n",
    "Settings.llm = Groq(model=modelo, api_key=groq_key)\n",
    "Settings.embed_model = HuggingFaceEmbedding(model_name=modelo_hf_emb)"
   ]
  },
  {
   "cell_type": "markdown",
   "id": "24016f9a",
   "metadata": {},
   "source": [
    "#### PARA ACESSAR O BANCO E ENTENDER O BANCO PRECISAMOS ESTRUTURAR O BANCO COMO UM OBJETO LLAMAINDEX (SQLDATABASE)"
   ]
  },
  {
   "cell_type": "code",
   "execution_count": null,
   "id": "765c6e89",
   "metadata": {},
   "outputs": [],
   "source": [
    "# PARA CRIAR O OBJETO PRECISAMOS DO SQLDATABASE E SQLTABLENODEMAPPING\n",
    "from llama_index.core import SQLDatabase\n",
    "from llama_index.core.objects import SQLTableNodeMapping\n",
    "\n",
    "DATABASE = SQLDatabase(mydb)\n",
    "TABLE_NODE_MAP = SQLTableNodeMapping(DATABASE)"
   ]
  },
  {
   "cell_type": "markdown",
   "id": "9a04c786",
   "metadata": {},
   "source": [
    "#### ESQUEMATIZANDO AS TABELAS PARA O FORMATO DE OBJETO ESPECIFICO PARA O LLAMAINDEX"
   ]
  },
  {
   "cell_type": "code",
   "execution_count": null,
   "id": "008c50f2",
   "metadata": {},
   "outputs": [],
   "source": [
    "from llama_index.core.objects import SQLTableSchema\n",
    "\n",
    "TABLE_SCHEMA_OBJ = []\n",
    "\n",
    "for tables in METADATA_OBJ.tables.keys():\n",
    "    TABLE_SCHEMA_OBJ.apped(SQLTableSchema(table_name=tables))"
   ]
  },
  {
   "cell_type": "markdown",
   "id": "c84da4f5",
   "metadata": {},
   "source": [
    "#### OBTENDO INFORMAÇÕES (INDICES VETORIAIS) DO DATABASE ATRAVES DO EMBEDDING DO HUGGING FACE"
   ]
  },
  {
   "cell_type": "code",
   "execution_count": null,
   "id": "6ea44bf1",
   "metadata": {},
   "outputs": [],
   "source": [
    "from llama_index.core.objects import ObjectIndex\n",
    "from llama_index.core import VectorStoreIndex\n",
    "\n",
    "OBJ_INDEX = ObjectIndex.from_objects(TABLE_SCHEMA_OBJ, TABLE_NODE_MAP, VectorStoreIndex)"
   ]
  },
  {
   "cell_type": "markdown",
   "id": "85687411",
   "metadata": {},
   "source": [
    "#### O RETRIEVER É UM OBJETO QUE NOS AJUDA A TRANSFORMAR A SEMÂNTICA DA PERGUNTA EM UMA CONSULTA NO BANCO"
   ]
  },
  {
   "cell_type": "code",
   "execution_count": null,
   "id": "e9690797",
   "metadata": {},
   "outputs": [],
   "source": [
    "# A PARTIR DA PERGUNTA, ELE RELACIONA A PALAVRA MAIS ADEQUADA AO NOME DA TABELA PARA FAZER A CONSULTA (SOMENTE O MAIS RELEVANTE similarity_top_k=1)\n",
    "OBJ_RETRIEVER = OBJ_INDEX.as_retriever(similarity_top_k=1)"
   ]
  },
  {
   "cell_type": "code",
   "execution_count": null,
   "id": "ca1e8b7c",
   "metadata": {},
   "outputs": [],
   "source": [
    "from llama_index.core.indices.struct_store.sql_query import SQLTableRetrieverQueryEngine\n",
    "\n",
    "QUERY_ENGINE = SQLTableRetrieverQueryEngine()"
   ]
  },
  {
   "cell_type": "code",
   "execution_count": null,
   "id": "79ea08b8",
   "metadata": {},
   "outputs": [],
   "source": []
  },
  {
   "cell_type": "code",
   "execution_count": null,
   "id": "07f2989f",
   "metadata": {},
   "outputs": [],
   "source": []
  },
  {
   "cell_type": "code",
   "execution_count": null,
   "id": "4e874ae1",
   "metadata": {},
   "outputs": [],
   "source": []
  }
 ],
 "metadata": {
  "kernelspec": {
   "display_name": "Python 3",
   "language": "python",
   "name": "python3"
  },
  "language_info": {
   "name": "python",
   "version": "3.9.13"
  }
 },
 "nbformat": 4,
 "nbformat_minor": 5
}
