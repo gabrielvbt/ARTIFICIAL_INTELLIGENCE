{
 "cells": [
  {
   "cell_type": "markdown",
   "id": "da57aa8d",
   "metadata": {},
   "source": [
    "#### bibliotecas necessárias\n",
    "- pandas==2.2.2\n",
    "- llama-index==0.11.20\n",
    "- llama-index-llms-groq==0.2.0\n",
    "- llama-index-experimental==0.4.0\n",
    "- gradio==5.4.0\n",
    "- fpdf==1.7.2\n",
    "\n",
    "pip install llama-index==0.11.20 && pip install llama-index-llms-groq==0.2.0 && pip install llama-index-experimental==0.4.0 && pip install gradio==5.4.0 && pip install fpdf==1.7.2\n",
    "\n",
    "- OBS: Também é necessário uma key atravez do https://groq.com, sinalizado na variável \"groq_key\" na celula abaixo.\n",
    "- OBS2: Bem como um arquivo para análise, no caso, para este projeto utilizamos as informações de uma tabela fictícia da Valquíria Alencar, instrutora do curso de LLM LlamaIndex na Alura"
   ]
  },
  {
   "cell_type": "code",
   "execution_count": null,
   "id": "058da079",
   "metadata": {},
   "outputs": [],
   "source": [
    "import pandas as pd\n",
    "import textwrap\n",
    "from llama_index.core import Settings\n",
    "from llama_index.llms.groq import Groq\n",
    "from llama_index.experimental.query_engine import PandasQueryEngine\n",
    "groq_key = ''\n",
    "url = 'https://github.com/alura-cursos/llamaIndex_pandas_query/blob/main/Dados/vendas.csv'\n",
    "\n",
    "Settings.llm = Groq(model='llama3-70b-8192', api_key=groq_key)"
   ]
  },
  {
   "cell_type": "code",
   "execution_count": null,
   "id": "48bba848",
   "metadata": {},
   "outputs": [],
   "source": [
    "DF = pd.read_csv(url)"
   ]
  },
  {
   "cell_type": "code",
   "execution_count": null,
   "id": "a2944350",
   "metadata": {},
   "outputs": [],
   "source": [
    "# A FORMA MAIS DIRETA DE RESPOSTAS UTILIZANDO QUERY_ENGINE\n",
    "query_engine = PandasQueryEngine(df=DF, verbose=True)\n",
    "\n",
    "response = query_engine.query('Qual a forma de pagamento mais utilizada?')"
   ]
  },
  {
   "cell_type": "code",
   "execution_count": null,
   "id": "1cb12e6d",
   "metadata": {},
   "outputs": [],
   "source": [
    "# RESPOSTAS MAIS COMPLETAS ALÉM DO VALOR FINAL, UMA EXPLICAÇÃO\n",
    "# TEXTWRAP É APENAS PARA FACILITAR A VISUALIZAÇÃO, NÃO É NECESSÁRIO\n",
    "query_engine = PandasQueryEngine(df=DF, verbose=True, synthesize_response=True)\n",
    "\n",
    "response = query_engine.query('Qual a média de avaliação para cada filial?')\n",
    "print(textwrap.fill(response.response, width=100))"
   ]
  },
  {
   "cell_type": "code",
   "execution_count": null,
   "id": "121c18c8",
   "metadata": {},
   "outputs": [],
   "source": [
    "query_engine = PandasQueryEngine(df=DF, verbose=True, synthesize_response=True)\n",
    "\n",
    "response = query_engine.query('')\n"
   ]
  }
 ],
 "metadata": {
  "kernelspec": {
   "display_name": "Python 3",
   "language": "python",
   "name": "python3"
  },
  "language_info": {
   "codemirror_mode": {
    "name": "ipython",
    "version": 3
   },
   "file_extension": ".py",
   "mimetype": "text/x-python",
   "name": "python",
   "nbconvert_exporter": "python",
   "pygments_lexer": "ipython3",
   "version": "3.9.13"
  }
 },
 "nbformat": 4,
 "nbformat_minor": 5
}
